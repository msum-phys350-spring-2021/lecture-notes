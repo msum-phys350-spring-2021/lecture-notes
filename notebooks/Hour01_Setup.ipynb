{
 "cells": [
  {
   "cell_type": "markdown",
   "metadata": {
    "slideshow": {
     "slide_type": "slide"
    }
   },
   "source": [
    "# PHYS 350 Setup"
   ]
  },
  {
   "cell_type": "markdown",
   "metadata": {
    "slideshow": {
     "slide_type": "slide"
    }
   },
   "source": [
    "## Install Python\n",
    "\n",
    "### Download and install miniconda (unless you have it)\n",
    "\n",
    "[https://docs.conda.io/en/latest/miniconda.html](https://docs.conda.io/en/latest/miniconda.html)\n",
    "\n",
    "+ Install Python 3, 64-bit\n",
    "+ On Mac, choose the \"pkg\" installer"
   ]
  },
  {
   "cell_type": "markdown",
   "metadata": {
    "slideshow": {
     "slide_type": "slide"
    }
   },
   "source": [
    "### Download `phys350-environment-2021.yml`  to your Downloads folder (link in D2L)\n",
    "\n",
    "### Right click on it and \"Save File As...\""
   ]
  },
  {
   "cell_type": "markdown",
   "metadata": {
    "slideshow": {
     "slide_type": "slide"
    }
   },
   "source": [
    "## Open terminal\n",
    "\n",
    "+ Mac: Type Cmd-space and start typing terminal, then push enter\n",
    "+ PC: Go to start menu, start typing \"Anaconda Prompt\" and open it"
   ]
  },
  {
   "cell_type": "markdown",
   "metadata": {
    "slideshow": {
     "slide_type": "slide"
    }
   },
   "source": [
    "## Create environment \n",
    "\n",
    "Type (or copy/paste) this into your terminal and push enter to run it. It will take a few minutes to run but you should see things happening, like a little spinning progress indicator and/or a long list of files.\n",
    "\n",
    "`conda env create -f Downloads/phys350-environment.yml`"
   ]
  },
  {
   "attachments": {},
   "cell_type": "markdown",
   "metadata": {},
   "source": [
    "## Success looks like this\n",
    "\n",
    "![Screenshot showing conda activate command](media/01-conda-success.png)"
   ]
  },
  {
   "cell_type": "markdown",
   "metadata": {
    "slideshow": {
     "slide_type": "fragment"
    }
   },
   "source": [
    "## Download and Install Visual Studio Code\n",
    "\n",
    "+ Go to [https://code.visualstudio.com/](https://code.visualstudio.com/)\n",
    "    - Download the stable build (not the \"Insiders\" build)"
   ]
  },
  {
   "cell_type": "markdown",
   "metadata": {},
   "source": [
    "### Setup up VS Code\n",
    "\n",
    "You should only have to do this once!\n",
    "\n",
    "The video below walks through:\n",
    "\n",
    "+ Installing the Python extension.\n",
    "+ Telling VS Code to use the correct conda environment for this course for Python files (files whose name ends `.py`)\n",
    "+ Telling VS Code to use the correct conda environment for this course for Jupyter notebook (files whose name ends `.ipynb`, which allow you to mix text, code and graphs.\n",
    "\n",
    "#### Video link: https://youtu.be/vzsykrpDLgw"
   ]
  },
  {
   "cell_type": "code",
   "execution_count": 2,
   "metadata": {},
   "outputs": [
    {
     "data": {
      "image/jpeg": "[encoded data removed]",
      "text/html": [
       "\n",
       "        <iframe\n",
       "            width=\"400\"\n",
       "            height=\"300\"\n",
       "            src=\"https://www.youtube.com/embed/vzsykrpDLgw\"\n",
       "            frameborder=\"0\"\n",
       "            allowfullscreen\n",
       "        ></iframe>\n",
       "        "
      ],
      "text/plain": [
       "<IPython.lib.display.YouTubeVideo at 0x7f80b8ecc350>"
      ]
     },
     "execution_count": 2,
     "metadata": {},
     "output_type": "execute_result"
    }
   ],
   "source": [
    "from IPython.display import YouTubeVideo\n",
    "YouTubeVideo('vzsykrpDLgw')"
   ]
  },
  {
   "cell_type": "markdown",
   "metadata": {
    "slideshow": {
     "slide_type": "slide"
    }
   },
   "source": [
    "## Open VS Code and install Python Extension\n",
    "\n",
    "If you do not see something like the screen below, go to the \"Help\" menu and open the welcome screen, or click the \"Extensions\" button on the left (looks like a bunch of squares) and install the Python extension.\n",
    "\n",
    "![VSCode Python Link](media/01-VSCode-Python.png)"
   ]
  }
 ],
 "metadata": {
  "celltoolbar": "Slideshow",
  "kernelspec": {
   "display_name": "Python 3",
   "language": "python",
   "name": "python3"
  },
  "language_info": {
   "codemirror_mode": {
    "name": "ipython",
    "version": 3
   },
   "file_extension": ".py",
   "mimetype": "text/x-python",
   "name": "python",
   "nbconvert_exporter": "python",
   "pygments_lexer": "ipython3",
   "version": "3.7.6"
  }
 },
 "nbformat": 4,
 "nbformat_minor": 4
}
